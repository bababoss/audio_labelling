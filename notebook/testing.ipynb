{
 "cells": [
  {
   "cell_type": "code",
   "execution_count": null,
   "metadata": {},
   "outputs": [],
   "source": []
  },
  {
   "cell_type": "code",
   "execution_count": null,
   "metadata": {},
   "outputs": [],
   "source": [
    "from __future__ import unicode_literals\n",
    "import youtube_dl\n",
    "import pandas as pd \n",
    "\n",
    "\n",
    "data = pd.read_csv(\"/home/deep-speech/project/audio_labelling/notebook/oho.csv\") \n",
    "print(data.columns.values)\n",
    "print(data['id'][2])\n",
    "\n",
    "\n",
    "\n",
    "for i  in range(len(list(data['id']))):\n",
    "    outtmpl = '/home/deep-speech/project/dataset/audio_dataset/'+ data['id'][i] + '.%(ext)s'\n",
    "\n",
    "    ydl_opts = {\n",
    "        'format': 'bestaudio/best',\n",
    "        'outtmpl': outtmpl,\n",
    "        'postprocessors': [{\n",
    "            'key': 'FFmpegExtractAudio',\n",
    "            'preferredcodec': 'wav',\n",
    "            'preferredquality': '192'\n",
    "        }],\n",
    "        'postprocessor_args': [\n",
    "            '-ar', '16000'\n",
    "        ],\n",
    "        'prefer_ffmpeg': True,\n",
    "        'keepvideo': True\n",
    "    }\n",
    "\n",
    "    url='http://www.youtube.com/watch?v='+data['id'][i]\n",
    "\n",
    "    with youtube_dl.YoutubeDL(ydl_opts) as ydl:\n",
    "        ydl.download([url])"
   ]
  },
  {
   "cell_type": "markdown",
   "metadata": {},
   "source": [
    "# Download youtube video "
   ]
  },
  {
   "cell_type": "code",
   "execution_count": null,
   "metadata": {
    "scrolled": true
   },
   "outputs": [],
   "source": [
    "from __future__ import unicode_literals\n",
    "import youtube_dl\n",
    "import pandas as pd \n",
    "import os,sys\n",
    "from subprocess import Popen, PIPE\n",
    "\n",
    "\n",
    "rahul=['Bpqz-KJe-uc',\"0No7tAy-N5w\",'P7YY8E3vCeU','g3KDJjbK_Aw','8UaROTJBI_Y','Cg57Aj3Gvco']\n",
    "modi=['ZxBTgHsHmsI','zVCA2rVMFUA','F0IP8tKpccU','ykGi3UzwlZ4','WM_A7q0kV8w','dUjPyMg34Os']\n",
    "atal=['WoiUaYRtins','Iw3rtJn4tJM','G50i_A7pKxg','irtrpk9m0OU','xzoAvqFT8pM']\n",
    "arvind=['E4Vxvr18UNQ','d00m-nL8N9A','YZcvg5NhMQ8','DCTLDAiaV4Y','c_o4GQL2cQc']\n",
    "yts_str=\"0No7tAy-N5w\"\n",
    "\n",
    "dataset={'rahul':rahul,'modi':modi,'atal':atal,'arvind':arvind}\n",
    "\n",
    "#ffmpeg -i 111.mp3 -acodec pcm_s16le -ac 1 -ar 16000 out.wav\n",
    "\n",
    "\n",
    "def audio_convert(input_path,out_path):\n",
    "    if  os.path.exists(input_path):\n",
    "        \n",
    "        process = Popen(\n",
    "            ['ffmpeg', '-i', input_path,'-acodec','pcm_s16le','-ac','1', '-ar','16000', out_path],\n",
    "            stdout=PIPE, stderr=PIPE)\n",
    "        stdout, stderr = process.communicate()\n",
    "        print(\"Done AUDIO CONVERT 16 16k mono.......\")\n",
    "\n",
    "def audio_clping(input_path,out_path_dir):\n",
    "    \n",
    "    filename=os.path.split(input_path.split('.')[0])[-1]\n",
    "    \n",
    "    savePath = os.path.join(out_path_dir,filename+\"%03d.wav\")\n",
    "    duration='15'\n",
    "\n",
    "    print(\"audioPath audio_spliter\",duration,filename,savePath)\n",
    "    print(\"input_pathinput_path\",input_path)\n",
    "    if os.path.exists(input_path):\n",
    "        process = Popen(\n",
    "            ['ffmpeg', '-i', input_path, '-f', 'segment', '-segment_time', duration, '-c', 'copy',savePath],\n",
    "            stdout=PIPE, stderr=PIPE)\n",
    "        stdout, stderr = process.communicate()\n",
    "        print(\"Audio Clips Created\")\n",
    "        \n",
    "def run_main(dataset,root):        \n",
    "\n",
    "    for i in dataset:\n",
    "        print(i)\n",
    "\n",
    "        for yts_str in dataset[i]:\n",
    "            download_root=root+i\n",
    "            if not os.path.isdir(download_root):\n",
    "                os.makedirs(download_root, exist_ok=True)\n",
    "            outtmpl = download_root+'/'+yts_str + '.%(ext)s'\n",
    "            ydl_opts = {\n",
    "                'format': 'bestaudio/best',\n",
    "                'outtmpl': outtmpl,\n",
    "                'postprocessors': [{\n",
    "                    'key': 'FFmpegExtractAudio',\n",
    "                    'preferredcodec': 'wav',\n",
    "                    'preferredquality': '192'\n",
    "                }],\n",
    "                'postprocessor_args': [\n",
    "                    '-ar', '16000'\n",
    "                ],\n",
    "                'prefer_ffmpeg': True,\n",
    "                'keepvideo': True\n",
    "            }\n",
    "\n",
    "            url='http://www.youtube.com/watch?v='+yts_str\n",
    "\n",
    "            with youtube_dl.YoutubeDL(ydl_opts) as ydl:\n",
    "                ydl.download([url])\n",
    "            print(\"Done Download.....\")\n",
    "            audio_convert(download_root+'/'+yts_str+'.wav',download_root+'/'+yts_str+'16'+i+\".wav\")\n",
    "            \n",
    "            final_save_path='/home/deep-speech/project/speaker-recognition/src/'+i\n",
    "            if not  os.path.isdir(final_save_path):\n",
    "                os.makedirs(final_save_path, exist_ok=True)\n",
    "            audio_clping(download_root+'/'+yts_str+'16'+i+\".wav\",final_save_path)\n",
    "\n",
    "        \n",
    "# download_root=\"/home/deep-speech/project/dataset/speaker_dataset/\" \n",
    "# run_main(dataset,download_root)"
   ]
  },
  {
   "cell_type": "code",
   "execution_count": null,
   "metadata": {},
   "outputs": [],
   "source": [
    "ing='/home/deep-speech/project/dataset/speaker_dataset/modi/ZxBTgHsHmsI16modi.wav'\n",
    "out=\"/home/deep-speech/project/dataset/speaker_dataset/modi/dddddddmodi.wav\"\n",
    "#audio_convert(ing,out)"
   ]
  },
  {
   "cell_type": "code",
   "execution_count": null,
   "metadata": {},
   "outputs": [],
   "source": [
    "\n"
   ]
  },
  {
   "cell_type": "markdown",
   "metadata": {},
   "source": [
    "#  Upload wav file to database"
   ]
  },
  {
   "cell_type": "code",
   "execution_count": null,
   "metadata": {},
   "outputs": [],
   "source": [
    "p=\"/home/deep-speech/project/dataset/speaker_dataset/kk\"\n",
    "import os\n",
    "if not os.path.isdir(p):\n",
    "    print(\"adad\")\n",
    "    os.makedirs(path, exist_ok=True)"
   ]
  },
  {
   "cell_type": "code",
   "execution_count": null,
   "metadata": {},
   "outputs": [],
   "source": [
    "import glob,requests\n",
    "path=glob.glob(\"/home/deep-speech/project/dataset/wav_file/*.wav\")\n",
    "url=\"http://35.230.10.173:8892/upload/\"\n",
    "\n",
    "print(len(path))\n"
   ]
  },
  {
   "cell_type": "code",
   "execution_count": null,
   "metadata": {},
   "outputs": [],
   "source": [
    "for i in range(len(path)):\n",
    "    files = {'filename': open(path[i], 'rb')}\n",
    "    r = requests.post(url, files=files)\n",
    "    print(r.text)"
   ]
  },
  {
   "cell_type": "markdown",
   "metadata": {},
   "source": [
    "# Audio Segmentation "
   ]
  },
  {
   "cell_type": "code",
   "execution_count": 9,
   "metadata": {},
   "outputs": [],
   "source": [
    "#ffmpeg -i somefile.mp3 -f segment -segment_time 3 -c copy out%03d.mp3\n",
    "import glob \n",
    "import sox\n",
    "mp3_path = glob.glob(\"/home/ubuntu/projects/noise_data/*.mp3\")"
   ]
  },
  {
   "cell_type": "code",
   "execution_count": 10,
   "metadata": {},
   "outputs": [
    {
     "data": {
      "text/plain": [
       "['/home/ubuntu/projects/noise_data/13 Jun, 12.04officenoise.mp3',\n",
       " '/home/ubuntu/projects/noise_data/13 Jun, 12.00noice.mp3',\n",
       " '/home/ubuntu/projects/noise_data/13 Jun, 11.56tmi.mp3',\n",
       " '/home/ubuntu/projects/noise_data/13 Jun, 12.03lift.mp3']"
      ]
     },
     "execution_count": 10,
     "metadata": {},
     "output_type": "execute_result"
    }
   ],
   "source": [
    "mp3_path"
   ]
  },
  {
   "cell_type": "code",
   "execution_count": 11,
   "metadata": {},
   "outputs": [
    {
     "name": "stdout",
     "output_type": "stream",
     "text": [
      "04officenoise\n",
      "00noice\n",
      "56tmi\n",
      "03lift\n"
     ]
    }
   ],
   "source": [
    "\n",
    "for i in range(len(mp3_path)):\n",
    "    print(mp3_path[i].split('.')[-2])"
   ]
  },
  {
   "cell_type": "code",
   "execution_count": 15,
   "metadata": {},
   "outputs": [],
   "source": [
    "def maybe_convert_wav(mp3_filename, wav_filename):\n",
    "    if not path.exists(wav_filename):\n",
    "        transformer = sox.Transformer()\n",
    "        transformer.convert(samplerate=SAMPLE_RATE)\n",
    "        try:\n",
    "            transformer.build(mp3_filename, wav_filename)\n",
    "        except sox.core.SoxError:\n",
    "            pass"
   ]
  },
  {
   "cell_type": "code",
   "execution_count": 12,
   "metadata": {},
   "outputs": [],
   "source": [
    "wav_dir=\"/home/ubuntu/projects/noise_data/wav\"\n",
    "!mkdir \"/home/ubuntu/projects/noise_data/wav\""
   ]
  },
  {
   "cell_type": "code",
   "execution_count": 19,
   "metadata": {},
   "outputs": [],
   "source": [
    "from os import path\n",
    "SAMPLE_RATE=16000\n",
    "for i in range(len(mp3_path)):\n",
    "    paths=wav_dir+mp3_path[i].split('.')[-2]+\".wav\"\n",
    "    maybe_convert_wav(mp3_path[i],paths)"
   ]
  },
  {
   "cell_type": "code",
   "execution_count": 25,
   "metadata": {},
   "outputs": [],
   "source": [
    "wav_path = glob.glob(\"/home/ubuntu/projects/noise_data/wav/*.wav\")\n",
    "import os"
   ]
  },
  {
   "cell_type": "code",
   "execution_count": 26,
   "metadata": {},
   "outputs": [
    {
     "data": {
      "text/plain": [
       "'wav00noice'"
      ]
     },
     "execution_count": 26,
     "metadata": {},
     "output_type": "execute_result"
    }
   ],
   "source": [
    "os.path.split(wav_path[0])[-1].split('.')[0]  \n"
   ]
  },
  {
   "cell_type": "code",
   "execution_count": 29,
   "metadata": {},
   "outputs": [
    {
     "name": "stdout",
     "output_type": "stream",
     "text": [
      "main: starting\n",
      "Audio created 3\n",
      "Audio created 1\n",
      "Audio created 0\n",
      "Audio created 2\n"
     ]
    }
   ],
   "source": [
    "from subprocess import Popen, PIPE\n",
    "import glob,requests,os\n",
    "from concurrent import futures\n",
    "pathhjbb=glob.glob(\"/home/deep-speech/project/dataset/audio_dataset/*.wav\")\n",
    "\n",
    "\n",
    "\n",
    "def audio_clips(path,i):\n",
    "    audio_root_path=\"/home/ubuntu/projects/noise_data/noise_wav\"\n",
    "    filename=os.path.split(path)[-1].split('.')[0]    \n",
    "    savePath = os.path.join(audio_root_path,filename+\"%03d.wav\")\n",
    "    duration='10'\n",
    "#     if i%3==0:\n",
    "#         duration='8'\n",
    "#     elif i%4==0:\n",
    "#          duration='12'\n",
    "#     elif i%5==0:\n",
    "#          duration='18'\n",
    "#     else:\n",
    "#         duration='10'\n",
    "    if os.path.exists(path):\n",
    "        process = Popen(\n",
    "            ['ffmpeg', '-i', path, '-f', 'segment', '-segment_time', duration, '-c', 'copy',savePath],\n",
    "            stdout=PIPE, stderr=PIPE)\n",
    "        stdout, stderr = process.communicate()\n",
    "        print(\"Audio created\",i)\n",
    "\n",
    "\n",
    "with futures.ThreadPoolExecutor(max_workers=32) as ex:\n",
    "    print('main: starting')\n",
    "    ex.submit(audio_clips, 1)\n",
    "    for i in range(len(wav_path)):\n",
    "        ex.submit(audio_clips, wav_path[i],i)\n",
    "\n",
    "\n"
   ]
  },
  {
   "cell_type": "code",
   "execution_count": null,
   "metadata": {},
   "outputs": [],
   "source": [
    "from concurrent import futures\n",
    "import os\n",
    "\n",
    "\n",
    "def task(n):\n",
    "    return (n, os.getpid())\n",
    "\n",
    "with futures.ProcessPoolExecutor(max_workers=8) as ex:\n",
    "    results = ex.map(task, range(5, 0, -1))\n",
    "    \n",
    "for n, pid in results:\n",
    "    print('ran task {} in process {}'.format(n, pid))"
   ]
  },
  {
   "cell_type": "code",
   "execution_count": null,
   "metadata": {},
   "outputs": [],
   "source": [
    "from concurrent import futures\n",
    "import time\n",
    "\n",
    "def task(n,f):\n",
    "    time.sleep(3)\n",
    "    print(n,f)\n",
    "\n",
    "\n",
    "with futures.ThreadPoolExecutor(max_workers=2) as ex:\n",
    "    print('main: starting')\n",
    "    ex.submit(task, 1,5)\n",
    "    ex.submit(task, 2,7)\n",
    "\n",
    "\n",
    "print('main: done')"
   ]
  },
  {
   "cell_type": "code",
   "execution_count": null,
   "metadata": {},
   "outputs": [],
   "source": [
    "import os\n",
    "filename=os.path.split(path[0])[-1].split('.')[0]\n",
    "filename"
   ]
  },
  {
   "cell_type": "code",
   "execution_count": null,
   "metadata": {},
   "outputs": [],
   "source": [
    "audio_root_path=\"/home/deep-speech/project/dataset/wav_file\"\n",
    "filename=os.path.split(path[0])[-1].split('.')[0]    \n",
    "savePath = os.path.join(audio_root_path,filename+\"%03d.wav\")\n",
    "filename"
   ]
  },
  {
   "cell_type": "code",
   "execution_count": null,
   "metadata": {},
   "outputs": [],
   "source": [
    "savePath"
   ]
  },
  {
   "cell_type": "code",
   "execution_count": null,
   "metadata": {},
   "outputs": [],
   "source": [
    "if 6%3==0:\n",
    "    print(\"suresh\")"
   ]
  },
  {
   "cell_type": "code",
   "execution_count": null,
   "metadata": {},
   "outputs": [],
   "source": []
  }
 ],
 "metadata": {
  "kernelspec": {
   "display_name": "almondaiEnv",
   "language": "python",
   "name": "almondaienv"
  },
  "language_info": {
   "codemirror_mode": {
    "name": "ipython",
    "version": 3
   },
   "file_extension": ".py",
   "mimetype": "text/x-python",
   "name": "python",
   "nbconvert_exporter": "python",
   "pygments_lexer": "ipython3",
   "version": "3.6.5"
  }
 },
 "nbformat": 4,
 "nbformat_minor": 2
}
