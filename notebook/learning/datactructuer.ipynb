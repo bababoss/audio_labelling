{
 "cells": [
  {
   "cell_type": "code",
   "execution_count": null,
   "metadata": {},
   "outputs": [],
   "source": [
    "# Stack"
   ]
  },
  {
   "cell_type": "code",
   "execution_count": null,
   "metadata": {},
   "outputs": [],
   "source": [
    "class Stack():\n",
    "    def __init__(self):\n",
    "        self.item=[]\n",
    "    def pop(self):\n",
    "        if self.item:\n",
    "            return self.item.pop()\n",
    "        else:\n",
    "            return None\n",
    "    def push(self,data):\n",
    "        self.item.append(data)\n",
    "    def lenght(self):\n",
    "        return len(self.item)\n",
    "    \n",
    "st=Stack()\n"
   ]
  },
  {
   "cell_type": "code",
   "execution_count": null,
   "metadata": {},
   "outputs": [],
   "source": [
    "# Queue"
   ]
  },
  {
   "cell_type": "code",
   "execution_count": null,
   "metadata": {},
   "outputs": [],
   "source": [
    "class Queue():\n",
    "    def __init__(self):\n",
    "        self.item=[]\n",
    "        \n",
    "    def lenght(self):\n",
    "        return len(self.item)\n",
    "    \n",
    "    def put(self,data):\n",
    "        self.item.append(data)\n",
    "        \n",
    "    def get(self):\n",
    "        print(self.lenght())\n",
    "        if self.lenght():\n",
    "            itm=self.item[0]\n",
    "            del self.item[0]\n",
    "            return itm\n",
    "        else:\n",
    "            return None\n",
    "        \n",
    "q=Queue()\n",
    "q.put(\"sss\")\n",
    "q.put(\"gr\")\n",
    "q.put(\"dd\")\n",
    "q.put(\"dsds\")\n",
    "\n",
    "q.get()"
   ]
  },
  {
   "cell_type": "code",
   "execution_count": null,
   "metadata": {},
   "outputs": [],
   "source": [
    "#  Linklist "
   ]
  },
  {
   "cell_type": "code",
   "execution_count": null,
   "metadata": {},
   "outputs": [],
   "source": [
    "class Node():\n",
    "    def __init__(self):\n",
    "        pass\n",
    "    "
   ]
  },
  {
   "cell_type": "code",
   "execution_count": null,
   "metadata": {},
   "outputs": [],
   "source": [
    "# Quick sort"
   ]
  },
  {
   "cell_type": "code",
   "execution_count": 24,
   "metadata": {},
   "outputs": [],
   "source": [
    "class Stack():\n",
    "    def __init__(self):\n",
    "        self.item=[]\n",
    "    def pop(self):\n",
    "        if self.item:\n",
    "            return self.item.pop()\n",
    "        else:\n",
    "            return None\n",
    "    def push(self,data):\n",
    "        self.item.append(data)\n",
    "    def lenght(self):\n",
    "        return len(self.item)\n",
    "    \n",
    "\n",
    "\n",
    "class QSort():\n",
    "    def __init__(self,input_list):\n",
    "        self.input_list=input_list\n",
    "        self.st=Stack()\n",
    "        self.st.push((0,len(self.input_list)-1))\n",
    "\n",
    "    def lenght(self):\n",
    "        return len(self.input_list)\n",
    "    def swap(self,i,j):\n",
    "        temp=self.input_list[i]\n",
    "        self.input_list[i]=self.input_list[j]\n",
    "        self.input_list[j]=temp\n",
    "\n",
    "    \n",
    "    def sorted_list(self,stack):\n",
    "        start,end=stack\n",
    "        ptr=start\n",
    "        \n",
    "        break_flage_left=True\n",
    "        break_flage_right=True\n",
    "        count=0\n",
    "        main_flag=False\n",
    "        while True:\n",
    "            flag=True\n",
    "            rflag=False\n",
    "            for i in range(end,start-1,-1):\n",
    "                if ptr==i-1 and flag:\n",
    "                    print(\"ajknfjsnfgjksdngjksdnfg \",end ,i,ptr)\n",
    "                    main_flag=True\n",
    "                    break\n",
    "                print(\"self.input_list[ptr]>=self.input_list \",self.input_list[ptr],self.input_list[i],\"index\",ptr,i)\n",
    "                if self.input_list[ptr]>=self.input_list[i]:\n",
    "                    print(\"right: \",count,\" ptr \",ptr,\" i \",i,\"start: \",start,\"end: \",end,\" \",self.input_list)\n",
    "                    self.swap(ptr,i)\n",
    "                    end=i\n",
    "                    start=ptr\n",
    "                    ptr=i\n",
    "                    flag=False\n",
    "                    rflag=True\n",
    "                    break\n",
    "                \n",
    "            for i in range(start,end-1):\n",
    "                if self.input_list[ptr]<=self.input_list[i] and rflag:\n",
    "                    print(\"left: \",count,\" ptr \",ptr,\" i \",i,\"start: \",start,\"end: \",end,\" \",self.input_list)\n",
    "\n",
    "                    self.swap(ptr,i)\n",
    "\n",
    "                    end=ptr\n",
    "                    start=i\n",
    "                    ptr=i\n",
    "                    flag=False\n",
    "                    break\n",
    "        \n",
    "            if start==ptr and start==end:\n",
    "                print(\"BReak left: \",count,\" ptr \",ptr,\" i \",i,\"start: \",start,\"end: \",end)\n",
    "                break_flage_left=True\n",
    "                \n",
    "         \n",
    "            count+=1\n",
    "            if (count>5):\n",
    "                print(\"count_break\",start,end,ptr,self.input_list)\n",
    "                break\n",
    "            print(\"fdasda\",break_flage_left,break_flage_right)\n",
    "            if break_flage_left:\n",
    "                print(\"normal_break\",start,end,ptr,self.input_list)\n",
    "                break\n",
    "        return ptr,main_flag\n",
    "\n",
    "    def run(self):\n",
    "        \n",
    "        while True:\n",
    "            \n",
    "            stack=self.st.pop()\n",
    "            print(\"stack lenght: \",self.st.lenght(),stack)\n",
    "            if stack:\n",
    "                ptr,main_flag=qs.sorted_list(stack)\n",
    "                if main_flag:\n",
    "                    break\n",
    "                if len(self.input_list[:ptr-1]) >=3:\n",
    "                    self.st.push((0,ptr-1))\n",
    "                if len(self.input_list[ptr+1:]) >=3:\n",
    "                    self.st.push((ptr+1,self.lenght()-1))\n",
    "   \n",
    "            else:\n",
    "                print(self.input_list)\n",
    "                break\n",
    "                       "
   ]
  },
  {
   "cell_type": "code",
   "execution_count": 25,
   "metadata": {},
   "outputs": [
    {
     "name": "stdout",
     "output_type": "stream",
     "text": [
      "11\n",
      "stack lenght:  0 (0, 10)\n",
      "self.input_list[ptr]>=self.input_list  90 574574 index 0 10\n",
      "self.input_list[ptr]>=self.input_list  90 64 index 0 9\n",
      "right:  0  ptr  0  i  9 start:  0 end:  10   [90, 222, 3, 4, 5, 346, 45, 55, 2, 64, 574574]\n",
      "left:  0  ptr  9  i  1 start:  0 end:  9   [64, 222, 3, 4, 5, 346, 45, 55, 2, 90, 574574]\n",
      "fdasda True True\n",
      "normal_break 1 9 1 [64, 90, 3, 4, 5, 346, 45, 55, 2, 222, 574574]\n",
      "stack lenght:  0 (2, 10)\n",
      "self.input_list[ptr]>=self.input_list  3 574574 index 2 10\n",
      "self.input_list[ptr]>=self.input_list  3 222 index 2 9\n",
      "self.input_list[ptr]>=self.input_list  3 2 index 2 8\n",
      "right:  0  ptr  2  i  8 start:  2 end:  10   [64, 90, 3, 4, 5, 346, 45, 55, 2, 222, 574574]\n",
      "left:  0  ptr  8  i  3 start:  2 end:  8   [64, 90, 2, 4, 5, 346, 45, 55, 3, 222, 574574]\n",
      "fdasda True True\n",
      "normal_break 3 8 3 [64, 90, 2, 3, 5, 346, 45, 55, 4, 222, 574574]\n",
      "stack lenght:  0 (4, 10)\n",
      "self.input_list[ptr]>=self.input_list  5 574574 index 4 10\n",
      "self.input_list[ptr]>=self.input_list  5 222 index 4 9\n",
      "self.input_list[ptr]>=self.input_list  5 4 index 4 8\n",
      "right:  0  ptr  4  i  8 start:  4 end:  10   [64, 90, 2, 3, 5, 346, 45, 55, 4, 222, 574574]\n",
      "left:  0  ptr  8  i  5 start:  4 end:  8   [64, 90, 2, 3, 4, 346, 45, 55, 5, 222, 574574]\n",
      "fdasda True True\n",
      "normal_break 5 8 5 [64, 90, 2, 3, 4, 5, 45, 55, 346, 222, 574574]\n",
      "stack lenght:  1 (6, 10)\n",
      "self.input_list[ptr]>=self.input_list  45 574574 index 6 10\n",
      "self.input_list[ptr]>=self.input_list  45 222 index 6 9\n",
      "self.input_list[ptr]>=self.input_list  45 346 index 6 8\n",
      "ajknfjsnfgjksdngjksdnfg  10 7 6\n",
      "fdasda True True\n",
      "normal_break 6 10 6 [64, 90, 2, 3, 4, 5, 45, 55, 346, 222, 574574]\n"
     ]
    }
   ],
   "source": [
    "s=[90,90,222,3,4,5,346,45,55,2,64,574574]\n",
    "#s=[2, 3, 4, 5, 45, 55, 64, 90, 222, 346, 574574]\n",
    "print(len(s))\n",
    "qs=QSort(s)\n",
    "qs.run()\n",
    "\n"
   ]
  },
  {
   "cell_type": "code",
   "execution_count": 20,
   "metadata": {},
   "outputs": [
    {
     "ename": "NameError",
     "evalue": "name 'ptr' is not defined",
     "output_type": "error",
     "traceback": [
      "\u001b[0;31m---------------------------------------------------------------------------\u001b[0m",
      "\u001b[0;31mNameError\u001b[0m                                 Traceback (most recent call last)",
      "\u001b[0;32m<ipython-input-20-89eec37074f7>\u001b[0m in \u001b[0;36m<module>\u001b[0;34m()\u001b[0m\n\u001b[1;32m      1\u001b[0m \u001b[0mst\u001b[0m\u001b[0;34m=\u001b[0m\u001b[0mStack\u001b[0m\u001b[0;34m(\u001b[0m\u001b[0;34m)\u001b[0m\u001b[0;34m\u001b[0m\u001b[0m\n\u001b[0;32m----> 2\u001b[0;31m \u001b[0mst\u001b[0m\u001b[0;34m.\u001b[0m\u001b[0mpush\u001b[0m\u001b[0;34m(\u001b[0m\u001b[0;34m(\u001b[0m\u001b[0;36m0\u001b[0m\u001b[0;34m,\u001b[0m\u001b[0mptr\u001b[0m\u001b[0;34m-\u001b[0m\u001b[0;36m1\u001b[0m\u001b[0;34m)\u001b[0m\u001b[0;34m)\u001b[0m\u001b[0;34m\u001b[0m\u001b[0m\n\u001b[0m\u001b[1;32m      3\u001b[0m \u001b[0mst\u001b[0m\u001b[0;34m.\u001b[0m\u001b[0mpush\u001b[0m\u001b[0;34m(\u001b[0m\u001b[0;34m(\u001b[0m\u001b[0mptr\u001b[0m\u001b[0;34m+\u001b[0m\u001b[0;36m1\u001b[0m\u001b[0;34m,\u001b[0m\u001b[0;34m)\u001b[0m\u001b[0;34m)\u001b[0m\u001b[0;34m\u001b[0m\u001b[0m\n",
      "\u001b[0;31mNameError\u001b[0m: name 'ptr' is not defined"
     ]
    }
   ],
   "source": [
    "st=Stack()\n",
    "st.push((0,ptr-1))\n",
    "st.push((ptr+1,))"
   ]
  },
  {
   "cell_type": "code",
   "execution_count": null,
   "metadata": {},
   "outputs": [],
   "source": [
    "def swap1():\n",
    "    temp=s[0]\n",
    "    s[0]=s[1]\n",
    "    s[1]=temp\n",
    "    \n",
    "def swap2(a,b):\n",
    "    temp=a\n",
    "    a=b\n",
    "    b=temp\n",
    "    \n"
   ]
  },
  {
   "cell_type": "code",
   "execution_count": null,
   "metadata": {},
   "outputs": [],
   "source": [
    "s=[222,3]\n",
    "#swap1()\n",
    "print(type(s[0]))\n",
    "swap2(s[0],s[1])\n",
    "s\n"
   ]
  },
  {
   "cell_type": "code",
   "execution_count": null,
   "metadata": {},
   "outputs": [],
   "source": [
    "s=\"fjksdnf/fadfasdf/SSA50402_xsad.msi\"\n",
    "s.split(\"/\")[-1].split(\"_\")[0][3:]"
   ]
  },
  {
   "cell_type": "code",
   "execution_count": null,
   "metadata": {},
   "outputs": [],
   "source": [
    "d=\"sdaas@3.4.455.3__dsfsdf_33\"\n",
    "d.split(\"@\")[-1].split(\"__\")[0].replace(\".\",'')"
   ]
  },
  {
   "cell_type": "code",
   "execution_count": null,
   "metadata": {},
   "outputs": [],
   "source": [
    "for i in range(11,4,-1):\n",
    "    print(i)"
   ]
  },
  {
   "cell_type": "code",
   "execution_count": null,
   "metadata": {},
   "outputs": [],
   "source": [
    "for i in range(0,4):\n",
    "    print(i)"
   ]
  },
  {
   "cell_type": "code",
   "execution_count": 37,
   "metadata": {},
   "outputs": [
    {
     "name": "stdout",
     "output_type": "stream",
     "text": [
      "(100, 22639)\n",
      "(99, 22639)\n",
      "(90, 22640)\n",
      "(89, 22640)\n",
      "(98, 22639)\n",
      "(97, 22639)\n",
      "(88, 22640)\n",
      "(87, 22640)\n",
      "(96, 22639)\n",
      "(86, 22640)\n",
      "(95, 22639)\n",
      "(85, 22640)\n",
      "(80, 22641)\n",
      "(94, 22639)\n",
      "(84, 22640)\n",
      "(93, 22639)\n",
      "(60, 22643)\n",
      "(83, 22640)\n",
      "(92, 22639)\n",
      "(91, 22639)\n",
      "(82, 22640)\n",
      "(50, 22644)\n",
      "(81, 22640)\n",
      "(49, 22644)\n",
      "(40, 22645)\n",
      "(30, 22646)\n",
      "(48, 22644)\n",
      "(39, 22645)\n",
      "(20, 22640)\n",
      "(47, 22644)\n",
      "(29, 22646)\n",
      "(19, 22640)\n",
      "(38, 22645)\n",
      "(46, 22644)\n",
      "(37, 22645)\n",
      "(18, 22640)\n",
      "(70, 22642)\n",
      "(28, 22646)\n",
      "(45, 22644)\n",
      "(59, 22643)\n",
      "(36, 22645)\n",
      "(17, 22640)\n",
      "(44, 22644)\n",
      "(27, 22646)\n",
      "(69, 22642)\n",
      "(79, 22641)\n",
      "(35, 22645)\n",
      "(43, 22644)\n",
      "(16, 22640)\n",
      "(34, 22645)\n",
      "(42, 22644)\n",
      "(15, 22640)\n",
      "(33, 22645)\n",
      "(41, 22644)\n",
      "(58, 22643)\n",
      "(14, 22640)\n",
      "(32, 22645)\n",
      "(78, 22641)\n",
      "(68, 22642)\n",
      "(26, 22646)\n",
      "(13, 22640)\n",
      "(31, 22645)\n",
      "(12, 22640)\n",
      "(11, 22640)\n",
      "(57, 22643)\n",
      "(10, 22648)\n",
      "(56, 22643)\n",
      "(9, 22648)\n",
      "(25, 22646)\n",
      "(77, 22641)\n",
      "(67, 22642)\n",
      "(55, 22643)\n",
      "(8, 22648)\n",
      "(76, 22641)\n",
      "(24, 22646)\n",
      "(7, 22648)\n",
      "(54, 22643)\n",
      "(66, 22642)\n",
      "(53, 22643)\n",
      "(6, 22648)\n",
      "(52, 22643)\n",
      "(5, 22648)\n",
      "(23, 22646)\n",
      "(75, 22641)\n",
      "(65, 22642)\n",
      "(4, 22648)\n",
      "(51, 22643)\n",
      "(22, 22646)\n",
      "(74, 22641)\n",
      "(64, 22642)\n",
      "(3, 22648)\n",
      "(73, 22641)\n",
      "(2, 22648)\n",
      "(21, 22646)\n",
      "(1, 22648)\n",
      "(63, 22642)\n",
      "(72, 22641)\n",
      "(62, 22642)\n",
      "(71, 22641)\n",
      "(61, 22642)\n",
      "0.1249232292175293\n"
     ]
    }
   ],
   "source": [
    "from concurrent import futures\n",
    "import os,time\n",
    "import signal\n",
    "\n",
    "def task(n):\n",
    "    print((n, os.getpid()))\n",
    "    return (n, os.getpid())\n",
    "s=time.time()\n",
    "with futures.ProcessPoolExecutor(max_workers=10) as ex:\n",
    "    results = ex.map(task, range(100, 0, -1),chunksize=10)\n",
    "e=time.time()\n",
    "print(e-s)"
   ]
  },
  {
   "cell_type": "code",
   "execution_count": 30,
   "metadata": {},
   "outputs": [
    {
     "name": "stdout",
     "output_type": "stream",
     "text": [
      "5\n",
      "4\n",
      "3\n",
      "2\n",
      "1\n"
     ]
    }
   ],
   "source": [
    "for i in range(5, 0, -1):\n",
    "    print(i)"
   ]
  },
  {
   "cell_type": "code",
   "execution_count": null,
   "metadata": {},
   "outputs": [],
   "source": []
  }
 ],
 "metadata": {
  "kernelspec": {
   "display_name": "Python 3",
   "language": "python",
   "name": "python3"
  },
  "language_info": {
   "codemirror_mode": {
    "name": "ipython",
    "version": 3
   },
   "file_extension": ".py",
   "mimetype": "text/x-python",
   "name": "python",
   "nbconvert_exporter": "python",
   "pygments_lexer": "ipython3",
   "version": "3.6.5"
  }
 },
 "nbformat": 4,
 "nbformat_minor": 2
}
