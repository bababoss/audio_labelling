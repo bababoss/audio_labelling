{
 "cells": [
  {
   "cell_type": "code",
   "execution_count": 1,
   "metadata": {},
   "outputs": [],
   "source": [
    "import librosa\n",
    "import numpy as np\n",
    "import matplotlib.pyplot as plt\n",
    "\n",
    "class AudioAugmentation:\n",
    "    def read_audio_file(self, file_path,noise_path):\n",
    "        #input_length = 16000\n",
    "        data = librosa.core.load(file_path)[0]\n",
    "        noise_data = librosa.core.load(file_path)[0]\n",
    "        if len(data) > input_length:\n",
    "            data = data[:input_length]\n",
    "        else:\n",
    "            data = np.pad(data, (0, max(0, input_length - len(data))), \"constant\")\n",
    "        return data\n",
    "    \n",
    "    def read_audio_files(self, file_path,noise_path):\n",
    "        data = librosa.core.load(file_path)[0]\n",
    "        noise_data = librosa.core.load(noise_path)[0]\n",
    "        print(len(data),len(noise_data))\n",
    "        if len(data) > len(noise_data):\n",
    "            print(\"Exit None\")\n",
    "            #data = data[:input_length]\n",
    "            return None\n",
    "#         else:\n",
    "#             data = np.pad(data, (0, max(0, input_length - len(data))), \"constant\")\n",
    "        return (data,noise_data[:len(data)])\n",
    "    \n",
    "    def add_noise(self, data,noise_data):\n",
    "        #noise = np.random.randn(len(data))\n",
    "        data_with_noise = data + 0.005 * noise_data\n",
    "        \n",
    "        return data_with_noise\n",
    "\n",
    "    def shift(self, data):\n",
    "            return np.roll(data, 1600)\n",
    "\n",
    "    def stretch(self, data, rate=1):\n",
    "            input_length = 16000\n",
    "            data = librosa.effects.time_stretch(data, rate)\n",
    "            if len(data) > input_length:\n",
    "                data = data[:input_length]\n",
    "            else:\n",
    "                data = np.pad(data, (0, max(0, input_length - len(data))), \"constant\")\n",
    "            return data\n",
    "        \n",
    "    def plot_time_series(self, data):\n",
    "            fig = plt.figure(figsize=(14, 8))\n",
    "            plt.title('Raw wave ')\n",
    "            plt.ylabel('Amplitude')\n",
    "            plt.plot(np.linspace(0, 1, len(data)), data)\n",
    "            plt.show()\n",
    "    def write_audio_file(self, file, data, sample_rate=8000):\n",
    "            librosa.output.write_wav(file, data, sample_rate)\n",
    "            \n",
    "            \n"
   ]
  },
  {
   "cell_type": "code",
   "execution_count": 2,
   "metadata": {},
   "outputs": [
    {
     "name": "stdout",
     "output_type": "stream",
     "text": [
      "/home/ubuntu/projects/deepspeech.pytorch_plus_plus/data/LibriSpeech_dataset/test_clean/wav/1221-135767-0006.wav\n"
     ]
    },
    {
     "data": {
      "text/plain": [
       "['/home/ubuntu/projects/noise_data/wav/wav00noice.wav',\n",
       " '/home/ubuntu/projects/noise_data/wav/wav03lift.wav',\n",
       " '/home/ubuntu/projects/noise_data/wav/wav04officenoise.wav',\n",
       " '/home/ubuntu/projects/noise_data/wav/wav00noice_8k.wav',\n",
       " '/home/ubuntu/projects/noise_data/wav/wav56tmi_8k.wav',\n",
       " '/home/ubuntu/projects/noise_data/wav/wav56tmi.wav']"
      ]
     },
     "execution_count": 2,
     "metadata": {},
     "output_type": "execute_result"
    }
   ],
   "source": [
    "import glob\n",
    "wav_files=glob.glob(\"/home/ubuntu/projects/deepspeech.pytorch_plus_plus/data/LibriSpeech_dataset/test_clean/wav/*.wav\")\n",
    "print(wav_files[0])\n",
    "noise_files=glob.glob(\"/home/ubuntu/projects/noise_data/wav/*.wav\")\n",
    "noise_files"
   ]
  },
  {
   "cell_type": "code",
   "execution_count": 3,
   "metadata": {},
   "outputs": [],
   "source": [
    "import os,sys\n",
    "from subprocess import Popen, PIPE\n",
    "def audio_convert(input_path,out_path):\n",
    "    if  os.path.exists(input_path):\n",
    "        \n",
    "        process = Popen(\n",
    "            ['ffmpeg', '-i', input_path,'-acodec','pcm_s16le','-ac','1', '-ar','8000', out_path],\n",
    "            stdout=PIPE, stderr=PIPE)\n",
    "        stdout, stderr = process.communicate()\n",
    "        print(\"Done AUDIO CONVERT 16 16k mono.......\")"
   ]
  },
  {
   "cell_type": "code",
   "execution_count": null,
   "metadata": {},
   "outputs": [],
   "source": [
    "out_path=noise_files[5].split('.')[0]+\"_8k.wav\"\n",
    "audio_convert(noise_files[5],out_path)\n",
    "out_path"
   ]
  },
  {
   "cell_type": "code",
   "execution_count": 4,
   "metadata": {},
   "outputs": [],
   "source": [
    "import IPython\n",
    "IPython.display.Audio(noise_files[5])"
   ]
  },
  {
   "cell_type": "code",
   "execution_count": null,
   "metadata": {},
   "outputs": [],
   "source": [
    "!sox --i '/home/ubuntu/projects/noise_data/wav/wav56tmi_8k.wav'"
   ]
  },
  {
   "cell_type": "code",
   "execution_count": null,
   "metadata": {},
   "outputs": [],
   "source": [
    "import IPython\n",
    "IPython.display.Audio(wav_files[0])"
   ]
  },
  {
   "cell_type": "code",
   "execution_count": null,
   "metadata": {},
   "outputs": [],
   "source": [
    "aa = AudioAugmentation()\n",
    "\n",
    "# Read cat sound\n",
    "data = aa.read_audio_files(wav_files[0],out_path)\n",
    "aa.plot_time_series(data[0][:16000])\n",
    "\n"
   ]
  },
  {
   "cell_type": "code",
   "execution_count": null,
   "metadata": {},
   "outputs": [],
   "source": [
    "# Adding noise to sound\n",
    "data_noise = aa.add_noise(data[0],data[1])\n",
    "aa.write_audio_file('file_noise.wav', data_noise, sample_rate=8000)"
   ]
  },
  {
   "cell_type": "code",
   "execution_count": null,
   "metadata": {},
   "outputs": [],
   "source": [
    "import IPython\n",
    "IPython.display.Audio('/home/ubuntu/projects/audio_labelling/notebook/file_noise.wav')"
   ]
  },
  {
   "cell_type": "code",
   "execution_count": null,
   "metadata": {},
   "outputs": [],
   "source": [
    "!ls \"/home/ubuntu/projects/audio_labelling/notebook/file_noise.wav\"\n"
   ]
  },
  {
   "cell_type": "code",
   "execution_count": null,
   "metadata": {},
   "outputs": [],
   "source": [
    "aa.plot_time_series(data_noise[:16000])"
   ]
  },
  {
   "cell_type": "code",
   "execution_count": null,
   "metadata": {},
   "outputs": [],
   "source": []
  }
 ],
 "metadata": {
  "kernelspec": {
   "display_name": "almondaiEnv",
   "language": "python",
   "name": "almondaienv"
  },
  "language_info": {
   "codemirror_mode": {
    "name": "ipython",
    "version": 3
   },
   "file_extension": ".py",
   "mimetype": "text/x-python",
   "name": "python",
   "nbconvert_exporter": "python",
   "pygments_lexer": "ipython3",
   "version": "3.6.5"
  }
 },
 "nbformat": 4,
 "nbformat_minor": 2
}
