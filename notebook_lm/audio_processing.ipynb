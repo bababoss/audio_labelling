{
 "cells": [
  {
   "cell_type": "code",
   "execution_count": 1,
   "metadata": {},
   "outputs": [],
   "source": [
    "import os,sys,glob\n",
    "from subprocess import Popen, PIPE\n",
    "def audio_convert(input_path,out_path):\n",
    "    if  os.path.exists(input_path):\n",
    "        \n",
    "        process = Popen(\n",
    "            ['ffmpeg', '-i', input_path,'-acodec','pcm_s16le','-ac','1', '-ar','16000', out_path],\n",
    "            stdout=PIPE, stderr=PIPE)\n",
    "        stdout, stderr = process.communicate()\n",
    "        print(\"Done AUDIO CONVERT 16 16k mono.......\")\n",
    "        "
   ]
  },
  {
   "cell_type": "code",
   "execution_count": 2,
   "metadata": {},
   "outputs": [],
   "source": [
    "inputs=glob.glob(\"/home/ubuntu/projects/datasets/noise_data_mp3/*.mp3\")\n",
    "!mkdir \"/home/ubuntu/projects/datasets/noise_data_mp3/wav\""
   ]
  },
  {
   "cell_type": "code",
   "execution_count": 3,
   "metadata": {},
   "outputs": [
    {
     "name": "stdout",
     "output_type": "stream",
     "text": [
      "Done AUDIO CONVERT 16 16k mono.......\n",
      "Done AUDIO CONVERT 16 16k mono.......\n",
      "Done AUDIO CONVERT 16 16k mono.......\n",
      "Done AUDIO CONVERT 16 16k mono.......\n",
      "Done AUDIO CONVERT 16 16k mono.......\n",
      "Done AUDIO CONVERT 16 16k mono.......\n"
     ]
    }
   ],
   "source": [
    "for i in range(len(inputs)):\n",
    "    output=\"/home/ubuntu/projects/datasets/noise_data_mp3/wav/\"+inputs[i].split('.')[-2]+\".wav\"\n",
    "    audio_convert(inputs[i],output)"
   ]
  },
  {
   "cell_type": "code",
   "execution_count": 8,
   "metadata": {},
   "outputs": [
    {
     "name": "stdout",
     "output_type": "stream",
     "text": [
      "there is really for these to success and future retail first it was always start with a consumer in everincreasing windiness in both a present isness and for the morrow and import he was half to be willing to reinvest in stores in digital and technology in fulfilment and intertainment be willing to disrobe ourselves a couple of years ago there were lots and questions about the pitcher of physical retail stores hired a few more disparate and through questions about a parents place in retail at that time we quickly realised that we were never going to win if we played one else was gay so we bedingfield in retaining or physical stores and making the work even harder today we consider our stores are single biggest competitive advantage they function as service enters a demented there are credible showrooms for inspiration and a target or spending a lot of time exploring everything from a estate arm a were also realising there is still no substitute for that human connection wherefore we have over three hundred and fifty thousand people glasgow is focus on taking care of our cast were making industry leading investment and wages and training to tranmere testament and fill a pan for advanceme\n"
     ]
    }
   ],
   "source": [
    "print(\"there is really for these to success and future retail first it was always start with a consumer in everincreasing windiness in both a present isness and for the morrow and import he was half to be willing to reinvest in stores in digital and technology in fulfilment and intertainment be willing to disrobe ourselves a couple of years ago there were lots and questions about the pitcher of physical retail stores hired a few more disparate and through questions about a parents place in retail at that time we quickly realised that we were never going to win if we played one else was gay so we bedingfield in retaining or physical stores and making the work even harder today we consider our stores are single biggest competitive advantage they function as service enters a demented there are credible showrooms for inspiration and a target or spending a lot of time exploring everything from a estate arm a were also realising there is still no substitute for that human connection wherefore we have over three hundred and fifty thousand people glasgow is focus on taking care of our cast were making industry leading investment and wages and training to tranmere testament and fill a pan for advanceme\")"
   ]
  },
  {
   "cell_type": "code",
   "execution_count": 10,
   "metadata": {},
   "outputs": [
    {
     "ename": "SyntaxError",
     "evalue": "EOL while scanning string literal (<ipython-input-10-4a9e4eda86a3>, line 1)",
     "output_type": "error",
     "traceback": [
      "\u001b[0;36m  File \u001b[0;32m\"<ipython-input-10-4a9e4eda86a3>\"\u001b[0;36m, line \u001b[0;32m1\u001b[0m\n\u001b[0;31m    print(\"there's really or tease say success and future retail first it was always start with a consumer in ever inescation that you make it was had to be wintriness in both a present bisness and for the morrow an import he was half to be willing to run thus in stores in digital in technology in fulfilment and entertained you have to be willing to disrobe a couple of years ago there were lots o questions about the kite of physical retail stores in here a few more disparate questions about a parent's place in retail at that time we quickly realised that we were never on a wind if we played none else was gay so we be in grisly investing in reading or phaselos and making the work even harder to day we consider our stores are single big as competitive advantage they function is service enters fortement and there are incredible showrooms for inspiration and a target or spending a lot of time exploring everything from a estate o were also realising there's still no substitute for that human connection or fortunate we have over three hundred and fifty thousand people glasgow is poison taken care of our cast were making industry leading investment in wages and training torrenieri this talent and fill a pan for advancement\u001b[0m\n\u001b[0m                                                                                                                                                                                                                                                                                                                                                                                                                                                                                                                                                                                                                                                                                                                                                                                                                                                                                                                                                                                                                                                                                                                                                                                                                                                                                   ^\u001b[0m\n\u001b[0;31mSyntaxError\u001b[0m\u001b[0;31m:\u001b[0m EOL while scanning string literal\n"
     ]
    }
   ],
   "source": [
    "print(\"there's really or tease say success and future retail first it was always start with a consumer in ever inescation that you make it was had to be wintriness in both a present bisness and for the morrow an import he was half to be willing to run thus in stores in digital in technology in fulfilment and entertained you have to be willing to disrobe a couple of years ago there were lots o questions about the kite of physical retail stores in here a few more disparate questions about a parent's place in retail at that time we quickly realised that we were never on a wind if we played none else was gay so we be in grisly investing in reading or phaselos and making the work even harder to day we consider our stores are single big as competitive advantage they function is service enters fortement and there are incredible showrooms for inspiration and a target or spending a lot of time exploring everything from a estate o were also realising there's still no substitute for that human connection or fortunate we have over three hundred and fifty thousand people glasgow is poison taken care of our cast were making industry leading investment in wages and training torrenieri this talent and fill a pan for advancement\n",
    "\"\")"
   ]
  },
  {
   "cell_type": "code",
   "execution_count": 11,
   "metadata": {},
   "outputs": [
    {
     "name": "stdout",
     "output_type": "stream",
     "text": [
      "there is really for keys to success in future retail first it was always start with a consumer in every decision that you make it would have to be willing to invest in both the present business and for tomorrow and importantly you have to be willing to reinvest in stores in digital in technology and focalised yourselves a couple of years ago iterations about the future of physical retail stores in her a few more distorting and the questions about targets place in retail at that time we quickly realized that we were never going to win if we played someone elses game so we been grisly investing in remaining our physical stores and making the work even harder today we consider our stores our single biggest competitive inane they function as service centers for bellenden there are incredible show rooms for inspiration and its target or spending a lot of time exploring everything from a to b arm were also realizing there are still no substitute for that human connection were fortunate we have over three hundred and fifty thousand people whose job is oaten care of our guests were making industry leading investments in wages and training contract the very best talent and build a path for advancement\n"
     ]
    }
   ],
   "source": [
    "print(\"there is really for keys to success in future retail first it was always start with a consumer in every decision that you make it would have to be willing to invest in both the present business and for tomorrow and importantly you have to be willing to reinvest in stores in digital in technology and focalised yourselves a couple of years ago iterations about the future of physical retail stores in her a few more distorting and the questions about targets place in retail at that time we quickly realized that we were never going to win if we played someone elses game so we been grisly investing in remaining our physical stores and making the work even harder today we consider our stores our single biggest competitive inane they function as service centers for bellenden there are incredible show rooms for inspiration and its target or spending a lot of time exploring everything from a to b arm were also realizing there are still no substitute for that human connection were fortunate we have over three hundred and fifty thousand people whose job is oaten care of our guests were making industry leading investments in wages and training contract the very best talent and build a path for advancement\")"
   ]
  },
  {
   "cell_type": "code",
   "execution_count": null,
   "metadata": {},
   "outputs": [],
   "source": []
  }
 ],
 "metadata": {
  "kernelspec": {
   "display_name": "almondaiEnv",
   "language": "python",
   "name": "almondaienv"
  },
  "language_info": {
   "codemirror_mode": {
    "name": "ipython",
    "version": 3
   },
   "file_extension": ".py",
   "mimetype": "text/x-python",
   "name": "python",
   "nbconvert_exporter": "python",
   "pygments_lexer": "ipython3",
   "version": "3.6.5"
  }
 },
 "nbformat": 4,
 "nbformat_minor": 2
}
