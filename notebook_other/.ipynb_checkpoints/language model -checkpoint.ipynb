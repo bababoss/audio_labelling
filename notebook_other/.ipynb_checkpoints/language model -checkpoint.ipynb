{
 "cells": [
  {
   "cell_type": "code",
   "execution_count": null,
   "metadata": {},
   "outputs": [],
   "source": []
  },
  {
   "cell_type": "code",
   "execution_count": 11,
   "metadata": {},
   "outputs": [
    {
     "name": "stdout",
     "output_type": "stream",
     "text": [
      "99\n"
     ]
    }
   ],
   "source": [
    "import pandas as pd\n",
    "import os,glob\n",
    "b1_dataset_path=\"/home/ubuntu/projects/datasets/1-billion-word-language-modeling-benchmark-r13output/training-monolingual\"\n",
    "b1_datasets=glob.glob(b1_dataset_path+\"/*en*\")\n",
    "b1_datasets\n",
    "print(len(b1_datasets))\n"
   ]
  },
  {
   "cell_type": "code",
   "execution_count": 3,
   "metadata": {},
   "outputs": [],
   "source": [
    "for pth in b1_datasets:\n",
    "    with open(pth,\"r\")  as f:\n",
    "        text=f.readlines()\n",
    "        #print(text)\n",
    "    break"
   ]
  },
  {
   "cell_type": "code",
   "execution_count": null,
   "metadata": {},
   "outputs": [],
   "source": []
  },
  {
   "cell_type": "code",
   "execution_count": 4,
   "metadata": {},
   "outputs": [
    {
     "data": {
      "text/plain": [
       "['Can we just be a family and open the mind to listen to learn ?\\n',\n",
       " 'But Libyan criminals run brazen smuggling networks .\\n',\n",
       " \"The story mostly revolves around Cocoon , once a utopian moon but now the target of the hostile fal 'Cie from the Pulse underworld .\\n\"]"
      ]
     },
     "execution_count": 4,
     "metadata": {},
     "output_type": "execute_result"
    }
   ],
   "source": [
    "text[:3]\n"
   ]
  },
  {
   "cell_type": "code",
   "execution_count": 5,
   "metadata": {},
   "outputs": [],
   "source": [
    "filenames = b1_datasets\n",
    "billionWordLanguageModeling='/home/ubuntu/projects/datasets/1-billion-word-language-modeling-benchmark-r13output/billionWordLanguageModeling.txt'\n",
    "with open(billionWordLanguageModeling, 'w') as outfile:\n",
    "    for fname in filenames:\n",
    "        with open(fname) as infile:\n",
    "            for line in infile:\n",
    "                outfile.write(line)"
   ]
  },
  {
   "cell_type": "code",
   "execution_count": null,
   "metadata": {},
   "outputs": [],
   "source": [
    "with open(billionWordLanguageModeling,\"r\")  as f:\n",
    "    text=f.readlines()"
   ]
  },
  {
   "cell_type": "code",
   "execution_count": null,
   "metadata": {},
   "outputs": [],
   "source": [
    "len(text)"
   ]
  },
  {
   "cell_type": "code",
   "execution_count": 6,
   "metadata": {},
   "outputs": [],
   "source": [
    "pathss=[\"/home/ubuntu/projects/datasets/training-monolingual-news-2007/training-monolingual/news.2007.en.shuffled\",\n",
    "       \"/home/ubuntu/projects/datasets/training-monolingual-news-2008/training-monolingual/news.2008.en.shuffled\",\n",
    "#        \"/home/ubuntu/projects/datasets/training-monolingual-news-2009/training-monolingual/news.2009.en.shuffled\",\n",
    "#         \"/home/ubuntu/projects/datasets/training-monolingual-news-2010/training-monolingual/news.2010.en.shuffled\",\n",
    "#         \"/home/ubuntu/projects/datasets/training-monolingual-news-2011/training-monolingual/news.2011.en.shuffled\",\n",
    "       ]\n"
   ]
  },
  {
   "cell_type": "code",
   "execution_count": null,
   "metadata": {},
   "outputs": [],
   "source": [
    "with open(pathss,\"r\")  as f:\n",
    "    text1=f.readlines()"
   ]
  },
  {
   "cell_type": "code",
   "execution_count": 7,
   "metadata": {},
   "outputs": [],
   "source": [
    "filenames = pathss\n",
    "nea_data='/home/ubuntu/projects/datasets/new_data.txt'\n",
    "with open(nea_data, 'w') as outfile:\n",
    "    for fname in filenames:\n",
    "        with open(fname) as infile:\n",
    "            for line in infile:\n",
    "                outfile.write(line)"
   ]
  },
  {
   "cell_type": "code",
   "execution_count": 9,
   "metadata": {},
   "outputs": [],
   "source": [
    "final_list=[\"/home/ubuntu/projects/kenlm/combined_lm_text.txt\",nea_data,billionWordLanguageModeling]"
   ]
  },
  {
   "cell_type": "code",
   "execution_count": 10,
   "metadata": {},
   "outputs": [],
   "source": [
    "filenames = final_list\n",
    "final_data=\"/home/ubuntu/projects/kenlm/final_lm_text.txt\"\n",
    "with open(final_data, 'w') as outfile:\n",
    "    for fname in filenames:\n",
    "        with open(fname) as infile:\n",
    "            for line in infile:\n",
    "                outfile.write(line)"
   ]
  },
  {
   "cell_type": "code",
   "execution_count": null,
   "metadata": {},
   "outputs": [],
   "source": []
  }
 ],
 "metadata": {
  "kernelspec": {
   "display_name": "almondaiEnv",
   "language": "python",
   "name": "almondaienv"
  },
  "language_info": {
   "codemirror_mode": {
    "name": "ipython",
    "version": 3
   },
   "file_extension": ".py",
   "mimetype": "text/x-python",
   "name": "python",
   "nbconvert_exporter": "python",
   "pygments_lexer": "ipython3",
   "version": "3.6.5"
  }
 },
 "nbformat": 4,
 "nbformat_minor": 2
}
